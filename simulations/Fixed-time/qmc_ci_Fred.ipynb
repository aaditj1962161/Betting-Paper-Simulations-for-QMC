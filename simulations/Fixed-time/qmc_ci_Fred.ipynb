{
 "cells": [
  {
   "cell_type": "markdown",
   "metadata": {},
   "source": [
    "# CI width by changing sample size for QMC and IID Beta for the Hedged (Betting) CI Method"
   ]
  },
  {
   "cell_type": "markdown",
   "metadata": {},
   "source": [
    "[This JRSSB article by Ian Waudby-Smith and Aaditya Ramdas](https://academic.oup.com/jrsssb/article/86/1/1/7043257) takes $X_1, X_2, \\ldots \\stackrel{\\text{IID}}{\\sim} F$ and computes a sequential confidence interval for $\\mu = \\mathbb{E}(X)$.\n",
    "\n",
    "For QMC, we are going to take \n",
    "\n",
    "$$\n",
    "X_i = \\frac{1}{m} \\sum_{j=1}^m T_{ij},\n",
    "$$ \n",
    "\n",
    "where for each $i$, $\\{T_{ij}\\}_{j=1}^m$ is a QMC set that mimics $F$. Therefore, $X_i$ is close to $\\mu$, and the sequence $\\{X_i\\}_{i=1}^n$ is an IID sequence based on $N = mn$ samples.\n",
    "\n",
    "In this notebook, $F$ is a Beta Distribution and DigitalNetB2 (Sobol) has been used for QMC."
   ]
  },
  {
   "cell_type": "markdown",
   "metadata": {},
   "source": [
    "Importing the modules:"
   ]
  },
  {
   "cell_type": "code",
   "execution_count": 1,
   "metadata": {},
   "outputs": [],
   "source": [
    "import sys\n",
    "import os\n",
    "\n",
    "import numpy as np\n",
    "import matplotlib.pyplot as plt\n",
    "from scipy.stats import binom\n",
    "from scipy.stats import beta\n",
    "from scipy.stats import multinomial\n",
    "import matplotlib.cm as cm\n",
    "\n",
    "sys.path.append(os.path.relpath(\"../..\"))\n",
    "from confseq.cs_plots import ConfseqToPlot, DataGeneratingProcess, plot_CSs\n",
    "from other_bounds import hoeffding_ci, maurer_pontil_empbern_ci\n",
    "from confseq.predmix import predmix_empbern_ci_seq\n",
    "from confseq.betting import betting_ci_seq\n",
    "\n",
    "figures_location = os.path.relpath(\"figures/\")\n",
    "\n",
    "import random\n",
    "import qmcpy as qp\n",
    "\n",
    "%matplotlib inline"
   ]
  },
  {
   "cell_type": "markdown",
   "metadata": {},
   "source": [
    "The plot function used for both IID_Beta and IID_QMC_Beta:"
   ]
  },
  {
   "cell_type": "code",
   "execution_count": 2,
   "metadata": {},
   "outputs": [],
   "source": [
    "def plot_func(times,lower_bound,upper_bound, title):\n",
    "    fig, axs = plt.subplots(1, 2)\n",
    "    axs[0].plot(times,lower_bound, color = \"red\")\n",
    "    axs[0].plot(times,upper_bound, color = \"red\")\n",
    "    axs[0].axhline(y=0.25, color=\"blue\", linestyle=\"--\")\n",
    "    axs[1].plot(times,upper_bound - lower_bound, color = \"red\")\n",
    "    axs[0].set_xlabel(\"sample size n\") \n",
    "    axs[0].set_ylabel(\"Confidence Interval\")\n",
    "    axs[1].set_xlabel(\"sample size n\") \n",
    "    axs[1].set_ylabel(\"CI Width\")\n",
    "    fig.text(0.45,1,title)\n",
    "    fig.tight_layout()"
   ]
  },
  {
   "cell_type": "markdown",
   "metadata": {},
   "source": [
    "## IID_Beta Simulations"
   ]
  },
  {
   "cell_type": "code",
   "execution_count": 6,
   "metadata": {},
   "outputs": [
    {
     "name": "stdout",
     "output_type": "stream",
     "text": [
      "Using 11 cores\n"
     ]
    },
    {
     "name": "stderr",
     "output_type": "stream",
     "text": [
      "/opt/miniconda3/envs/bet_sim/lib/python3.8/site-packages/numpy/core/fromnumeric.py:57\n",
      "\tRuntimeWarning: overflow encountered in accumulate\n",
      "/opt/miniconda3/envs/bet_sim/lib/python3.8/site-packages/numpy/core/fromnumeric.py:57\n",
      "\tRuntimeWarning: overflow encountered in accumulate\n",
      "/opt/miniconda3/envs/bet_sim/lib/python3.8/site-packages/numpy/core/fromnumeric.py:57\n",
      "\tRuntimeWarning: overflow encountered in accumulate\n",
      "/opt/miniconda3/envs/bet_sim/lib/python3.8/site-packages/numpy/core/fromnumeric.py:57\n",
      "\tRuntimeWarning: overflow encountered in accumulate\n",
      "/opt/miniconda3/envs/bet_sim/lib/python3.8/site-packages/numpy/core/fromnumeric.py:57\n",
      "\tRuntimeWarning: overflow encountered in accumulate\n",
      "/opt/miniconda3/envs/bet_sim/lib/python3.8/site-packages/numpy/core/fromnumeric.py:57\n",
      "\tRuntimeWarning: overflow encountered in accumulate\n"
     ]
    },
    {
     "name": "stdout",
     "output_type": "stream",
     "text": [
      "IID_Beta mean for N =  3200  is  0.25096141778081205\n",
      "IID_Beta std =  0.06881312149989491\n",
      "IID_Beta Upper bound at maximum sample size N =  3200  is  0.254\n",
      "IID_Beta Lower bound at maximum sample size N =  0.248\n",
      "IID_Beta CI width at sample size N =  0.006000000000000005\n",
      "The CLT CI width would be 0.0023842530175122853\n",
      "Using 11 cores\n"
     ]
    }
   ],
   "source": [
    "alpha = 0.05 # Confidence level\n",
    "\n",
    "# The setup for IID_Beta:\n",
    "\n",
    "N = 100 * (2**5) # The maximum sample size\n",
    "times_iid = (10 * (np.arange(1,11))) * (2**5) # The times (sample sizes) for which we'll use compute the lower and upper bounds on the confidence intervals\n",
    "x_iid = np.random.beta(10, 30, N) # The IID_Beta samples\n",
    "lower_bound_iid,upper_bound_iid = betting_ci_seq(x_iid, times=times_iid, alpha=alpha, parallel=True, m_trunc=True, trunc_scale=3 / 4) \n",
    "    # Getting the sequential CI according to the code from the paper above\n",
    "\n",
    "# Printing out the mean, std, and last upper bound,lower bound, and CI width (upper bound,lower bound, and CI width at sample size N)\n",
    "print(\"IID_Beta mean for N = \", N, \" is \" , x_iid.mean())\n",
    "print(\"IID_Beta std = \", x_iid.std())\n",
    "print(\"IID_Beta Upper bound at maximum sample size N = \", N, \" is \", upper_bound_iid[len(upper_bound_iid) - 1])\n",
    "print(\"IID_Beta Lower bound at maximum sample size N = \", lower_bound_iid[len(lower_bound_iid) - 1])\n",
    "print(\"IID_Beta CI width at sample size N = \", upper_bound_iid[len(upper_bound_iid) - 1] - lower_bound_iid[len(lower_bound_iid) - 1])\n",
    "print(\"The CLT CI width would be\", 1.96 * x_iid.std() / np.sqrt(N))\n",
    "\n",
    "\n",
    "# The setup for IID_QMC_Beta:\n",
    "\n",
    "# The function to generate the IID_QMC_Beta samples\n",
    "def gen_qmc_samples_iid(distribution = qp.SciPyWrapper(discrete_distrib=qp.DigitalNetB2(1,seed = 7),scipy_distribs=beta(a=10,b=30))\n",
    "                         , spawn_samples = 11 ,gen_samples = 2**8):\n",
    "    spw = distribution\n",
    "    spws = spw.spawn(spawn_samples)\n",
    "    samples = spws[0].gen_samples(gen_samples).flatten()\n",
    "    for i in range (len(spws)- 1):\n",
    "        curr_samples = spws[i + 1].gen_samples(gen_samples).flatten()\n",
    "        samples = np.vstack((samples,curr_samples))\n",
    "    return np.mean(samples, axis = 1)\n",
    "\n",
    "spawn_samples = 100 # The number of IID replications\n",
    "gen_samples = 2**5 # The number of samples generated per replication\n",
    "times_qmc = 10 * np.arange(1,11) # The times (sample sizes) for which we'll use the lower and upper bound values\n",
    "x_qmc = gen_qmc_samples_iid(spawn_samples=spawn_samples,gen_samples=gen_samples) # The IID_QMC_Beta samples\n",
    "lower_bound_qmc,upper_bound_qmc = betting_ci_seq(x_qmc, times=times_qmc, alpha=alpha, parallel=True, m_trunc=True, trunc_scale=3 / 4) # Getting the sequential CI\n"
   ]
  },
  {
   "cell_type": "markdown",
   "metadata": {},
   "source": [
    "## Simulation Output"
   ]
  },
  {
   "cell_type": "code",
   "execution_count": null,
   "metadata": {},
   "outputs": [
    {
     "ename": "SyntaxError",
     "evalue": "invalid syntax (3975305146.py, line 2)",
     "output_type": "error",
     "traceback": [
      "\u001b[0;36m  Cell \u001b[0;32mIn[7], line 2\u001b[0;36m\u001b[0m\n\u001b[0;31m    print(\"IID_Beta mean for maximum N = \", N, \" is \" x_iid.mean())\u001b[0m\n\u001b[0m                                                      ^\u001b[0m\n\u001b[0;31mSyntaxError\u001b[0m\u001b[0;31m:\u001b[0m invalid syntax\n"
     ]
    }
   ],
   "source": [
    "# Printing out the mean, std, and last upper bound,lower bound, and CI width (upper bound,lower bound, and CI width at sample size N)\n",
    "print(\"IID_Beta mean for maximum N = \", N, \" is \", x_iid.mean())\n",
    "print(\"IID_Beta std = \", x_iid.std())\n",
    "print(\"IID_Beta Upper bound at maximum sample size N = \", N \" is \" upper_bound_iid[len(upper_bound_iid) - 1])\n",
    "print(\"IID_Beta Lower bound at maximum sample size N = \", lower_bound_iid[len(lower_bound_iid) - 1])\n",
    "print(\"IID_Beta CI width at sample size N = \", upper_bound_iid[len(upper_bound_iid) - 1] - lower_bound_iid[len(lower_bound_iid) - 1])\n",
    "print(\"The CLT CI width would be\", 1.96 * x_iid.std() / np.sqrt(N))\n",
    "\n",
    "# Printing out the mean, std, and last upper bound,lower bound, and CI width (upper bound,lower bound, and CI width at sample size spawn_samples)\n",
    "print(\"IID_QMC_Beta mean = \", x_qmc.mean())\n",
    "print(\"IID_QMC_Beta std = \", x_qmc.std())\n",
    "print(\"IID_QMC_Beta Upper bound at sample size spawn_samples = \", upper_bound_qmc[len(upper_bound_qmc) - 1])\n",
    "print(\"IID_QMC_Beta Lower bound at sample size spawn_samples = \", lower_bound_qmc[len(lower_bound_qmc) - 1])\n",
    "print(\"IID_QMC_Beta CI width at sample size spawn_samples = \", upper_bound_qmc[len(upper_bound_qmc) - 1] - lower_bound_qmc[len(lower_bound_qmc) - 1])\n",
    "print(\"The CLT CI width would be\", 1.96 * x_qmc.std() / np.sqrt(spawn_samples))\n",
    "\n",
    "# The plots:\n",
    "plot_func(times_iid,lower_bound_iid,upper_bound_iid,\"IID_Beta\") # IID_Beta Plot\n",
    "plot_func(times_qmc * gen_samples,lower_bound_qmc,upper_bound_qmc,\"IID_QMC_Beta\") # IID_QMC_Beta Plot\n"
   ]
  }
 ],
 "metadata": {
  "kernelspec": {
   "display_name": "bet_sim",
   "language": "python",
   "name": "python3"
  },
  "language_info": {
   "codemirror_mode": {
    "name": "ipython",
    "version": 3
   },
   "file_extension": ".py",
   "mimetype": "text/x-python",
   "name": "python",
   "nbconvert_exporter": "python",
   "pygments_lexer": "ipython3",
   "version": "3.8.19"
  }
 },
 "nbformat": 4,
 "nbformat_minor": 4
}
